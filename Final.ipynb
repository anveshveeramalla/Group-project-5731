{
 "cells": [
  {
   "cell_type": "code",
   "execution_count": 1,
   "metadata": {},
   "outputs": [],
   "source": [
    "# import machine learning libraries\n",
    "import numpy as np\n",
    "import pandas as pd\n",
    "import matplotlib.pyplot as plt\n",
    "import seaborn as sns\n",
    "from sklearn.model_selection import train_test_split\n",
    "from sklearn.preprocessing import StandardScaler\n",
    "from sklearn.metrics import confusion_matrix\n",
    "from sklearn.metrics import classification_report\n",
    "from sklearn.metrics import accuracy_score\n",
    "from sklearn.metrics import roc_auc_score\n",
    "from sklearn.metrics import roc_curve\n",
    "from sklearn.metrics import auc\n",
    "from sklearn.metrics import precision_recall_curve\n",
    "from sklearn.metrics import average_precision_score\n",
    "from sklearn.metrics import precision_recall_fscore_support\n",
    "from sklearn.metrics import f1_score"
   ]
  },
  {
   "cell_type": "code",
   "execution_count": 2,
   "metadata": {},
   "outputs": [
    {
     "data": {
      "text/html": [
       "<div>\n",
       "<style scoped>\n",
       "    .dataframe tbody tr th:only-of-type {\n",
       "        vertical-align: middle;\n",
       "    }\n",
       "\n",
       "    .dataframe tbody tr th {\n",
       "        vertical-align: top;\n",
       "    }\n",
       "\n",
       "    .dataframe thead th {\n",
       "        text-align: right;\n",
       "    }\n",
       "</style>\n",
       "<table border=\"1\" class=\"dataframe\">\n",
       "  <thead>\n",
       "    <tr style=\"text-align: right;\">\n",
       "      <th></th>\n",
       "      <th>age</th>\n",
       "      <th>gender</th>\n",
       "      <th>symptoms</th>\n",
       "      <th>pred_diseases</th>\n",
       "      <th>analgesics</th>\n",
       "      <th>treatments_scans</th>\n",
       "      <th>diet</th>\n",
       "    </tr>\n",
       "  </thead>\n",
       "  <tbody>\n",
       "    <tr>\n",
       "      <th>0</th>\n",
       "      <td>0</td>\n",
       "      <td>M/F</td>\n",
       "      <td>Stopped Growth</td>\n",
       "      <td>Growth Disorder, Turner Syndrome</td>\n",
       "      <td>Thyroid hormone pills, growth hormone injections</td>\n",
       "      <td>Bone Age Xray, MRI scan</td>\n",
       "      <td>Meat, Seafood,Leafygreens,Diary,Spinach, Beef</td>\n",
       "    </tr>\n",
       "    <tr>\n",
       "      <th>1</th>\n",
       "      <td>0</td>\n",
       "      <td>M/F</td>\n",
       "      <td>Wheezing, Coughing and troubled breathing</td>\n",
       "      <td>Asthma</td>\n",
       "      <td>Metered dose inhalers, nebulizers</td>\n",
       "      <td>Asthma therapy</td>\n",
       "      <td>Fruits and vegetables</td>\n",
       "    </tr>\n",
       "    <tr>\n",
       "      <th>2</th>\n",
       "      <td>0</td>\n",
       "      <td>M/F</td>\n",
       "      <td>baby too small, weight&lt;5.5 pounds</td>\n",
       "      <td>Learning disabilities</td>\n",
       "      <td>iron supplements</td>\n",
       "      <td>Temperature Control Incubator</td>\n",
       "      <td>iron supplements</td>\n",
       "    </tr>\n",
       "    <tr>\n",
       "      <th>3</th>\n",
       "      <td>0</td>\n",
       "      <td>M/F</td>\n",
       "      <td>Repetetive behaviour,prefers to be alone</td>\n",
       "      <td>Autism\\r\\n</td>\n",
       "      <td>Ketamine, Midazolem</td>\n",
       "      <td>Teach social skills and cognitive behaviour</td>\n",
       "      <td>Only yelow or white foods such as rice, potato...</td>\n",
       "    </tr>\n",
       "    <tr>\n",
       "      <th>4</th>\n",
       "      <td>0</td>\n",
       "      <td>M/F</td>\n",
       "      <td>Self-destructiveness,sadness and being upset</td>\n",
       "      <td>Depression</td>\n",
       "      <td>Prozac, Zoloft or Celexa</td>\n",
       "      <td>Constantly praise him, teach skills, and give ...</td>\n",
       "      <td>Fish and whole grains</td>\n",
       "    </tr>\n",
       "  </tbody>\n",
       "</table>\n",
       "</div>"
      ],
      "text/plain": [
       "   age gender                                      symptoms  \\\n",
       "0    0    M/F                                Stopped Growth   \n",
       "1    0    M/F     Wheezing, Coughing and troubled breathing   \n",
       "2    0    M/F             baby too small, weight<5.5 pounds   \n",
       "3    0    M/F      Repetetive behaviour,prefers to be alone   \n",
       "4    0    M/F  Self-destructiveness,sadness and being upset   \n",
       "\n",
       "                      pred_diseases  \\\n",
       "0  Growth Disorder, Turner Syndrome   \n",
       "1                            Asthma   \n",
       "2             Learning disabilities   \n",
       "3                        Autism\\r\\n   \n",
       "4                        Depression   \n",
       "\n",
       "                                         analgesics  \\\n",
       "0  Thyroid hormone pills, growth hormone injections   \n",
       "1                 Metered dose inhalers, nebulizers   \n",
       "2                                  iron supplements   \n",
       "3                               Ketamine, Midazolem   \n",
       "4                          Prozac, Zoloft or Celexa   \n",
       "\n",
       "                                    treatments_scans  \\\n",
       "0                            Bone Age Xray, MRI scan   \n",
       "1                                     Asthma therapy   \n",
       "2                      Temperature Control Incubator   \n",
       "3        Teach social skills and cognitive behaviour   \n",
       "4  Constantly praise him, teach skills, and give ...   \n",
       "\n",
       "                                                diet  \n",
       "0      Meat, Seafood,Leafygreens,Diary,Spinach, Beef  \n",
       "1                              Fruits and vegetables  \n",
       "2                                   iron supplements  \n",
       "3  Only yelow or white foods such as rice, potato...  \n",
       "4                              Fish and whole grains  "
      ]
     },
     "execution_count": 2,
     "metadata": {},
     "output_type": "execute_result"
    }
   ],
   "source": [
    "#load health data\n",
    "df = pd.read_csv(\"C:\\\\Anvesh\\\\UNT\\\\Sub\\\\5731\\\\medical-assistant\\\\health.csv\")\n",
    "df.head()"
   ]
  },
  {
   "cell_type": "code",
   "execution_count": 3,
   "metadata": {},
   "outputs": [
    {
     "name": "stdout",
     "output_type": "stream",
     "text": [
      "<class 'pandas.core.frame.DataFrame'>\n",
      "RangeIndex: 29 entries, 0 to 28\n",
      "Data columns (total 7 columns):\n",
      " #   Column            Non-Null Count  Dtype \n",
      "---  ------            --------------  ----- \n",
      " 0   age               29 non-null     int64 \n",
      " 1   gender            29 non-null     object\n",
      " 2   symptoms          29 non-null     object\n",
      " 3   pred_diseases     29 non-null     object\n",
      " 4   analgesics        29 non-null     object\n",
      " 5   treatments_scans  29 non-null     object\n",
      " 6   diet              29 non-null     object\n",
      "dtypes: int64(1), object(6)\n",
      "memory usage: 1.7+ KB\n"
     ]
    }
   ],
   "source": [
    "df.info()"
   ]
  },
  {
   "cell_type": "code",
   "execution_count": 4,
   "metadata": {},
   "outputs": [
    {
     "data": {
      "image/png": "[encoded data removed]",
      "text/plain": [
       "<Figure size 180x180 with 2 Axes>"
      ]
     },
     "metadata": {
      "needs_background": "light"
     },
     "output_type": "display_data"
    }
   ],
   "source": [
    "# plot the data of age agains gender\n",
    "sns.pairplot(df)\n",
    "plt.show()\n",
    "\n",
    "#sa\n"
   ]
  },
  {
   "cell_type": "code",
   "execution_count": 5,
   "metadata": {},
   "outputs": [],
   "source": [
    "#Train the dataset\n",
    "X = df.drop('age', axis=1)\n",
    "y = df['age']\n",
    "\n",
    "X_train , X_test , y_train , y_test = train_test_split(X,y,test_size=0.2,random_state=0)"
   ]
  },
  {
   "cell_type": "code",
   "execution_count": 6,
   "metadata": {},
   "outputs": [
    {
     "data": {
      "text/html": [
       "<div>\n",
       "<style scoped>\n",
       "    .dataframe tbody tr th:only-of-type {\n",
       "        vertical-align: middle;\n",
       "    }\n",
       "\n",
       "    .dataframe tbody tr th {\n",
       "        vertical-align: top;\n",
       "    }\n",
       "\n",
       "    .dataframe thead th {\n",
       "        text-align: right;\n",
       "    }\n",
       "</style>\n",
       "<table border=\"1\" class=\"dataframe\">\n",
       "  <thead>\n",
       "    <tr style=\"text-align: right;\">\n",
       "      <th></th>\n",
       "      <th>age</th>\n",
       "      <th>gender</th>\n",
       "      <th>symptoms</th>\n",
       "      <th>pred_diseases</th>\n",
       "      <th>analgesics</th>\n",
       "      <th>treatments_scans</th>\n",
       "      <th>diet</th>\n",
       "    </tr>\n",
       "  </thead>\n",
       "  <tbody>\n",
       "    <tr>\n",
       "      <th>24</th>\n",
       "      <td>2</td>\n",
       "      <td>F</td>\n",
       "      <td>Trouble sleeping, mood swings, vaginal dryness</td>\n",
       "      <td>Menopause</td>\n",
       "      <td>Isoflav capsules</td>\n",
       "      <td>Estrogen levels test</td>\n",
       "      <td>Fish, Fruits, Vegetables and Diary</td>\n",
       "    </tr>\n",
       "    <tr>\n",
       "      <th>25</th>\n",
       "      <td>2</td>\n",
       "      <td>M/F</td>\n",
       "      <td>Cold, Allergies, Nasal problems</td>\n",
       "      <td>Sinusitis</td>\n",
       "      <td>Acetaminophen or Nasal spray</td>\n",
       "      <td>Antibiotics like Aspirin and Nasal sprays</td>\n",
       "      <td>Salmon, Avocados, Cherries and Beans</td>\n",
       "    </tr>\n",
       "    <tr>\n",
       "      <th>26</th>\n",
       "      <td>2</td>\n",
       "      <td>M</td>\n",
       "      <td>Pain while urine and ejaculation</td>\n",
       "      <td>Prostate Cancer</td>\n",
       "      <td>Bicalutamide or Casodex</td>\n",
       "      <td>Radiation therapy or prostatectomy</td>\n",
       "      <td>Veggies and fruits and low in meat</td>\n",
       "    </tr>\n",
       "    <tr>\n",
       "      <th>27</th>\n",
       "      <td>2</td>\n",
       "      <td>M/F</td>\n",
       "      <td>Trembling body parts and loss of balance</td>\n",
       "      <td>Parkinson's disease</td>\n",
       "      <td>Vesoret capsules</td>\n",
       "      <td>Cardibopa-levodopa</td>\n",
       "      <td>Fruits and vegetables</td>\n",
       "    </tr>\n",
       "    <tr>\n",
       "      <th>28</th>\n",
       "      <td>2</td>\n",
       "      <td>M/F</td>\n",
       "      <td>Buildup of fluids in legs, ankles and legs, ti...</td>\n",
       "      <td>Heart failure</td>\n",
       "      <td>Carvedilol or Metoprolol</td>\n",
       "      <td>ACE inhibitors</td>\n",
       "      <td>Plain rice, fish, egg, milk and yoghurt</td>\n",
       "    </tr>\n",
       "  </tbody>\n",
       "</table>\n",
       "</div>"
      ],
      "text/plain": [
       "    age gender                                           symptoms  \\\n",
       "24    2      F     Trouble sleeping, mood swings, vaginal dryness   \n",
       "25    2    M/F                    Cold, Allergies, Nasal problems   \n",
       "26    2      M                   Pain while urine and ejaculation   \n",
       "27    2    M/F           Trembling body parts and loss of balance   \n",
       "28    2    M/F  Buildup of fluids in legs, ankles and legs, ti...   \n",
       "\n",
       "          pred_diseases                    analgesics  \\\n",
       "24            Menopause              Isoflav capsules   \n",
       "25            Sinusitis  Acetaminophen or Nasal spray   \n",
       "26      Prostate Cancer       Bicalutamide or Casodex   \n",
       "27  Parkinson's disease              Vesoret capsules   \n",
       "28        Heart failure      Carvedilol or Metoprolol   \n",
       "\n",
       "                             treatments_scans  \\\n",
       "24                       Estrogen levels test   \n",
       "25  Antibiotics like Aspirin and Nasal sprays   \n",
       "26         Radiation therapy or prostatectomy   \n",
       "27                         Cardibopa-levodopa   \n",
       "28                             ACE inhibitors   \n",
       "\n",
       "                                       diet  \n",
       "24       Fish, Fruits, Vegetables and Diary  \n",
       "25     Salmon, Avocados, Cherries and Beans  \n",
       "26       Veggies and fruits and low in meat  \n",
       "27                    Fruits and vegetables  \n",
       "28  Plain rice, fish, egg, milk and yoghurt  "
      ]
     },
     "execution_count": 6,
     "metadata": {},
     "output_type": "execute_result"
    }
   ],
   "source": [
    "\n",
    "df.tail()"
   ]
  },
  {
   "cell_type": "code",
   "execution_count": 7,
   "metadata": {},
   "outputs": [
    {
     "name": "stdout",
     "output_type": "stream",
     "text": [
      "Requirement already satisfied: SpeechRecognition in c:\\users\\anves\\anaconda3\\lib\\site-packages (3.8.1)\n",
      "Requirement already satisfied: pywin32 in c:\\users\\anves\\anaconda3\\lib\\site-packages (228)\n"
     ]
    }
   ],
   "source": [
    "!pip install SpeechRecognition\n",
    "!pip install pywin32"
   ]
  },
  {
   "cell_type": "code",
   "execution_count": 8,
   "metadata": {},
   "outputs": [
    {
     "name": "stdout",
     "output_type": "stream",
     "text": [
      "Requirement already satisfied: pipwin in c:\\users\\anves\\anaconda3\\lib\\site-packages (0.5.2)\n",
      "Requirement already satisfied: beautifulsoup4>=4.9.0 in c:\\users\\anves\\anaconda3\\lib\\site-packages (from pipwin) (4.10.0)\n",
      "Requirement already satisfied: requests in c:\\users\\anves\\anaconda3\\lib\\site-packages (from pipwin) (2.26.0)\n",
      "Requirement already satisfied: docopt in c:\\users\\anves\\anaconda3\\lib\\site-packages (from pipwin) (0.6.2)\n",
      "Requirement already satisfied: six in c:\\users\\anves\\anaconda3\\lib\\site-packages (from pipwin) (1.16.0)\n",
      "Requirement already satisfied: js2py in c:\\users\\anves\\anaconda3\\lib\\site-packages (from pipwin) (0.71)\n",
      "Requirement already satisfied: packaging in c:\\users\\anves\\anaconda3\\lib\\site-packages (from pipwin) (21.0)\n",
      "Requirement already satisfied: pySmartDL>=1.3.1 in c:\\users\\anves\\anaconda3\\lib\\site-packages (from pipwin) (1.3.4)\n",
      "Requirement already satisfied: pyprind in c:\\users\\anves\\anaconda3\\lib\\site-packages (from pipwin) (2.11.3)\n",
      "Requirement already satisfied: soupsieve>1.2 in c:\\users\\anves\\anaconda3\\lib\\site-packages (from beautifulsoup4>=4.9.0->pipwin) (2.2.1)\n",
      "Requirement already satisfied: tzlocal>=1.2 in c:\\users\\anves\\anaconda3\\lib\\site-packages (from js2py->pipwin) (4.2)\n",
      "Requirement already satisfied: pyjsparser>=2.5.1 in c:\\users\\anves\\anaconda3\\lib\\site-packages (from js2py->pipwin) (2.7.1)\n",
      "Requirement already satisfied: tzdata in c:\\users\\anves\\anaconda3\\lib\\site-packages (from tzlocal>=1.2->js2py->pipwin) (2022.1)\n",
      "Requirement already satisfied: pytz-deprecation-shim in c:\\users\\anves\\anaconda3\\lib\\site-packages (from tzlocal>=1.2->js2py->pipwin) (0.1.0.post0)\n",
      "Requirement already satisfied: pyparsing>=2.0.2 in c:\\users\\anves\\anaconda3\\lib\\site-packages (from packaging->pipwin) (3.0.4)\n",
      "Requirement already satisfied: idna<4,>=2.5 in c:\\users\\anves\\anaconda3\\lib\\site-packages (from requests->pipwin) (3.2)\n",
      "Requirement already satisfied: certifi>=2017.4.17 in c:\\users\\anves\\anaconda3\\lib\\site-packages (from requests->pipwin) (2021.10.8)\n",
      "Requirement already satisfied: charset-normalizer~=2.0.0 in c:\\users\\anves\\anaconda3\\lib\\site-packages (from requests->pipwin) (2.0.4)\n",
      "Requirement already satisfied: urllib3<1.27,>=1.21.1 in c:\\users\\anves\\anaconda3\\lib\\site-packages (from requests->pipwin) (1.26.7)\n",
      "Package `pyaudio` found in cache\n",
      "Downloading package . . .\n",
      "https://download.lfd.uci.edu/pythonlibs/x6hvwk7i/PyAudio-0.2.11-cp39-cp39-win_amd64.whl\n",
      "PyAudio-0.2.11-cp39-cp39-win_amd64.whl\n",
      "[*] 0 bytes / 111 kB @ 0 bytes/s [------------------] [0.0%, 0s left]   [*] 0 bytes / 111 kB @ 0 bytes/s [------------------] [0.0%, 0s left]   [*] 0 bytes / 111 kB @ 0 bytes/s [------------------] [0.0%, 0s left]   [*] 0 bytes / 111 kB @ 0 bytes/s [------------------] [0.0%, 0s left]   [*] 0 bytes / 111 kB @ 0 bytes/s [------------------] [0.0%, 0s left]   [*] 0 bytes / 111 kB @ 0 bytes/s [------------------] [0.0%, 0s left]   [*] 8 kB / 111 kB @ 11 kB/s [#-----------------] [7.2%, 0s left]  [*] 72 kB / 111 kB @ 90 kB/s [###########-------] [64.8%, 0s left]  Processing c:\\users\\anves\\pipwin\\pyaudio-0.2.11-cp39-cp39-win_amd64.whl\n",
      "PyAudio is already installed with the same version as the provided wheel. Use --force-reinstall to force an installation of the wheel.\n",
      "[*] 111 kB / 111 kB @ 90 kB/s [##################] [100%, 0s left]    \n"
     ]
    }
   ],
   "source": [
    "!pip install pipwin\n",
    "!pipwin install pyaudio"
   ]
  },
  {
   "cell_type": "code",
   "execution_count": 10,
   "metadata": {},
   "outputs": [],
   "source": [
    "import speech_recognition as sr;\n",
    "import win32com.client "
   ]
  },
  {
   "cell_type": "code",
   "execution_count": 11,
   "metadata": {},
   "outputs": [
    {
     "name": "stdout",
     "output_type": "stream",
     "text": [
      "Requirement already satisfied: pyaudio in c:\\users\\anves\\anaconda3\\lib\\site-packages (0.2.11)\n"
     ]
    }
   ],
   "source": [
    "!pip install pyaudio"
   ]
  },
  {
   "cell_type": "code",
   "execution_count": 12,
   "metadata": {},
   "outputs": [],
   "source": [
    "r=sr.Recognizer()\n",
    "speaker = win32com.client.Dispatch(\"SAPI.SpVoice\")\n",
    "with sr.Microphone() as source:\n",
    "    speaker.Speak(\"Say something\")\n",
    "    audio=r.listen(source)\n",
    "    try:\n",
    "        text=r.recognize_google(audio)\n",
    "        speaker.Speak(\"You said \" + text)    \n",
    "    except:\n",
    "        speaker.Speak(\"Sorry, couldn't catch that!\")"
   ]
  },
  {
   "cell_type": "code",
   "execution_count": 13,
   "metadata": {},
   "outputs": [
    {
     "data": {
      "text/plain": [
       "0"
      ]
     },
     "execution_count": 13,
     "metadata": {},
     "output_type": "execute_result"
    }
   ],
   "source": [
    "import os\n",
    "os.system(\"echo 'hey'\")"
   ]
  },
  {
   "cell_type": "code",
   "execution_count": 14,
   "metadata": {},
   "outputs": [
    {
     "data": {
      "text/plain": [
       "1"
      ]
     },
     "execution_count": 14,
     "metadata": {},
     "output_type": "execute_result"
    }
   ],
   "source": [
    "import win32com.client\n",
    "speaker = win32com.client.Dispatch(\"SAPI.SpVoice\")\n",
    "speaker.Speak(\"Hello, it works!\")"
   ]
  },
  {
   "cell_type": "code",
   "execution_count": 15,
   "metadata": {},
   "outputs": [],
   "source": [
    "import nltk\n",
    "#nltk.download()"
   ]
  },
  {
   "cell_type": "code",
   "execution_count": 16,
   "metadata": {},
   "outputs": [
    {
     "name": "stdout",
     "output_type": "stream",
     "text": [
      "Requirement already satisfied: word2number in c:\\users\\anves\\anaconda3\\lib\\site-packages (1.1)\n"
     ]
    }
   ],
   "source": [
    "!pip install word2number"
   ]
  },
  {
   "cell_type": "code",
   "execution_count": 30,
   "metadata": {},
   "outputs": [
    {
     "name": "stdout",
     "output_type": "stream",
     "text": [
      "Requirement already satisfied: mysql-connector in c:\\users\\anves\\anaconda3\\lib\\site-packages (2.2.9)\n",
      "Requirement already satisfied: mysql-connector-python in c:\\users\\anves\\anaconda3\\lib\\site-packages (8.0.29)\n",
      "Collecting protobuf>=3.0.0\n",
      "  Downloading protobuf-3.20.1-cp39-cp39-win_amd64.whl (904 kB)\n",
      "Installing collected packages: protobuf\n",
      "Successfully installed protobuf-3.20.1\n"
     ]
    }
   ],
   "source": [
    "import nltk\n",
    "from nltk.tokenize import sent_tokenize, word_tokenize, PunktSentenceTokenizer\n",
    "import speech_recognition as sr;\n",
    "import win32com.client \n",
    "from nltk.corpus import stopwords\n",
    "from nltk.stem import WordNetLemmatizer \n",
    "!pip install mysql-connector\n",
    "!pip install mysql-connector-python\n",
    "import mysql.connector\n",
    "from mysql.connector import Error\n",
    "from word2number import w2n"
   ]
  },
  {
   "cell_type": "code",
   "execution_count": 36,
   "metadata": {},
   "outputs": [
    {
     "name": "stdout",
     "output_type": "stream",
     "text": [
      "John\n",
      "35\n",
      "man\n",
      "headache\n",
      "<mysql.connector.connection.MySQLConnection object at 0x0000020B8B2637C0>\n",
      "yes\n",
      "False\n",
      "You may be suffering from Fever.\n",
      "You can take the analgesics Paracetemol or Aspirin for immediate relief and you can also go for Tylenol, Ibuprofen to treat stomach irritation\n",
      "Also, please don't forget to include good amounts of fluid intake like gatorage, fruitjuices or milk in your diet. \n",
      "Hope that was helpful. It was nice serving you, John\n"
     ]
    }
   ],
   "source": [
    "r=sr.Recognizer()\n",
    "speaker = win32com.client.Dispatch(\"SAPI.SpVoice\")\n",
    "stopWords=set(stopwords.words('english'))\n",
    "filteredWords=[]\n",
    "tags=[]\n",
    "lemWords=[]\n",
    "y='yes'\n",
    "n='no'\n",
    "nope='nope'\n",
    "yeah='yeah'\n",
    "ps=WordNetLemmatizer()\n",
    "\n",
    "\n",
    "\n",
    "with sr.Microphone() as source:\n",
    "    speaker.Speak(\"Hello there! I'm Doctor Shawn and I'm your personal health assistant. I might need some of your personal details to serve you better. \")\n",
    "    speaker.Speak(\"What's your name?\")\n",
    "    audio=r.listen(source)\n",
    "    try:\n",
    "        sent1=r.recognize_google(audio)\n",
    "        words1=word_tokenize(sent1)\n",
    "        name=words1[len(words1)-1]\n",
    "        print(name)\n",
    "        speaker.Speak(\"Hey \"+name+\"Can you tell me your age?\")\n",
    "        audio=r.listen(source)\n",
    "        sent2=r.recognize_google(audio)\n",
    "        words2=word_tokenize(sent2)\n",
    "        age=words2[len(words2)-1]\n",
    "        print(age)\n",
    "        \n",
    "    #speaker.Speak(\"Thanks for telling me.Your age is\"+age)\n",
    "        speaker.Speak(\"Thanks for telling me your age, \"+name+\" Now do you mind telling me your gender?\")\n",
    "        audio=r.listen(source)\n",
    "        sent3=r.recognize_google(audio)\n",
    "        words3=word_tokenize(sent3)\n",
    "        gender=words3[len(words3)-1]\n",
    "        print(gender)\n",
    "        \n",
    "        speaker.Speak(\"Name one of the primary problems you're facing\")\n",
    "        audio=r.listen(source)\n",
    "        sent4=r.recognize_google(audio)\n",
    "        words4=word_tokenize(sent4)\n",
    "        sym=words4[len(words4)-1]\n",
    "        print(sym)\n",
    "        conn = mysql.connector.connect(user='root', password='password',\n",
    "                              host='127.0.0.1',\n",
    "                              database='sakila',\n",
    "                              auth_plugin = 'mysql_native_password')\n",
    "        \n",
    "        if conn.is_connected():\n",
    "            cursor = conn.cursor()\n",
    "            cursor.execute(\"select * from health where symptoms like '%\"+sym+\"%'\")\n",
    "            record = cursor.fetchone()\n",
    "            speaker.Speak(\"Are you also suffering from severe \"+record[2]+\"?\")\n",
    "            audio=r.listen(source)\n",
    "            sent5=r.recognize_google(audio)\n",
    "            words5=word_tokenize(sent5)\n",
    "            addedsymp=words5[0]\n",
    "            for w in words5:\n",
    "                if w not in stopWords:\n",
    "                    filteredWords.append(w)\n",
    "                    lemWords.append(ps.lemmatize(w))\n",
    "            print(addedsymp)\n",
    "            print(addedsymp==n or addedsymp==nope)\n",
    "            if(addedsymp==n):\n",
    "                speaker.Speak(\"Then you have nothing to worry about, \"+name+\" Have a nice day!\")\n",
    "            elif(addedsymp==y or addedsymp==yeah):\n",
    "                speaker.Speak(\"You may be suffering from \"+record[3]+\" , but dont worry I've got your back\")\n",
    "                speaker.Speak(\"You can take the analgesics, \"+record[4]+\"for immediate relief and you can also go for, \"+record[5])\n",
    "                speaker.Speak(\"Also, please don't forget to include good amounts of \"+record[6]+\" in your diet. \")\n",
    "                speaker.Speak(\"Hope that was helpful. It was nice serving you,\"+name)\n",
    "                print(\"You may be suffering from \"+record[3]+\".\")\n",
    "                print(\"You can take the analgesics \"+record[4]+\" for immediate relief and you can also go for \"+record[5])\n",
    "                print(\"Also, please don't forget to include good amounts of \"+record[6]+\" in your diet. \")\n",
    "                print(\"Hope that was helpful. It was nice serving you, \"+name)\n",
    "\n",
    "    except:\n",
    "        speaker.Speak(\"Sorry! Couldn't catch that\")\n",
    "                \n",
    "        #print(sent_tokenize(name))\n",
    "        #speaker.Speak(\"You said \" + text)    \n",
    "    #except:\n",
    "        #speaker.Speak(\"Sorry, couldn't catch that!\")\n",
    "#print(filteredWords)\n",
    "#print(lemWords)\n",
    "tags=nltk.pos_tag(lemWords)\n",
    "#print(tags)"
   ]
  },
  {
   "cell_type": "code",
   "execution_count": 35,
   "metadata": {},
   "outputs": [
    {
     "name": "stdout",
     "output_type": "stream",
     "text": [
      "connected\n"
     ]
    }
   ],
   "source": []
  },
  {
   "cell_type": "code",
   "execution_count": 37,
   "metadata": {},
   "outputs": [
    {
     "name": "stdout",
     "output_type": "stream",
     "text": [
      "<WordListCorpusReader in 'C:\\\\Users\\\\anves\\\\AppData\\\\Roaming\\\\nltk_data\\\\corpora\\\\stopwords'>\n"
     ]
    }
   ],
   "source": [
    "print(stopwords)"
   ]
  },
  {
   "cell_type": "code",
   "execution_count": 38,
   "metadata": {},
   "outputs": [
    {
     "name": "stdout",
     "output_type": "stream",
     "text": [
      "Connected to MySQL database... MySQL Server version on  8.0.29\n",
      "MySQL connection is closed\n"
     ]
    }
   ],
   "source": [
    "import mysql.connector\n",
    "from mysql.connector import Error\n",
    "#sym=\"wheezing\"\n",
    "l=(0,120)\n",
    "#placeholder= '?' # For SQLite. See DBAPI paramstyle.\n",
    "#placeholders= ', '.join(placeholder*len(l))\n",
    "#query= 'SELECT pred_diseases FROM health where age IN %s' % (l,)\n",
    "try:\n",
    "    conn = mysql.connector.connect(user='root', password='password',\n",
    "                              host='127.0.0.1',\n",
    "                              database='sakila',\n",
    "                              auth_plugin = 'mysql_native_password')\n",
    "    if conn.is_connected():\n",
    "       db_Info = conn.get_server_info()\n",
    "       print(\"Connected to MySQL database... MySQL Server version on \",db_Info)\n",
    "       cursor = conn.cursor()\n",
    "       #cursor.execute(query)\n",
    "       cursor.execute(\"select pred_diseases from health where symptoms like '%\"+sym+\"%'\")\n",
    "       record = cursor.fetchone()\n",
    "       speaker.Speak(\"You're suffering from\"+record[0]+\" , but dont worry I've got you\")\n",
    "except Error as e :\n",
    "    print (\"Error while connecting to MySQL\", e)\n",
    "finally:\n",
    "    #closing database connection.\n",
    "    if conn.is_connected():\n",
    "        cursor.close()\n",
    "        conn.close()\n",
    "        print(\"MySQL connection is closed\")"
   ]
  },
  {
   "cell_type": "code",
   "execution_count": 39,
   "metadata": {},
   "outputs": [
    {
     "name": "stdout",
     "output_type": "stream",
     "text": [
      "20\n"
     ]
    }
   ],
   "source": [
    "from word2number import w2n\n",
    "print(w2n.word_to_num('twenty'))"
   ]
  },
  {
   "cell_type": "code",
   "execution_count": 40,
   "metadata": {},
   "outputs": [],
   "source": [
    "a = 'twenty'\n"
   ]
  },
  {
   "cell_type": "code",
   "execution_count": 49,
   "metadata": {},
   "outputs": [],
   "source": [
    "age = 'twenty'"
   ]
  },
  {
   "cell_type": "code",
   "execution_count": 50,
   "metadata": {},
   "outputs": [],
   "source": [
    "if(w2n.word_to_num(age)<=20):\n",
    "    a=(0,120)\n",
    "elif(w2n.word_to_num(age)>20 and w2n.word_to_num(age)<=50):\n",
    "    a=(1,120)\n",
    "elif(w2n.word_to_num(age)>50 and w2n.word_to_num(age)<120):\n",
    "    a=(2,120)"
   ]
  },
  {
   "cell_type": "code",
   "execution_count": 48,
   "metadata": {},
   "outputs": [],
   "source": [
    "if(gender=='female'):\n",
    "            print(\"F\")\n",
    "            g=(\"F\",\"M/F\")\n",
    "elif(gender=='male'):\n",
    "            print(\"M\")\n",
    "            g=(\"M\",\"M/F\")"
   ]
  },
  {
   "cell_type": "code",
   "execution_count": null,
   "metadata": {},
   "outputs": [],
   "source": []
  }
 ],
 "metadata": {
  "interpreter": {
   "hash": "610a6f344c2137faf927ea819c63f6cee33a2c04455044b28099f39fe9722347"
  },
  "kernelspec": {
   "display_name": "Python 3 (ipykernel)",
   "language": "python",
   "name": "python3"
  },
  "language_info": {
   "codemirror_mode": {
    "name": "ipython",
    "version": 3
   },
   "file_extension": ".py",
   "mimetype": "text/x-python",
   "name": "python",
   "nbconvert_exporter": "python",
   "pygments_lexer": "ipython3",
   "version": "3.9.7"
  },
  "widgets": {
   "application/vnd.jupyter.widget-state+json": {
    "state": {},
    "version_major": 2,
    "version_minor": 0
   }
  }
 },
 "nbformat": 4,
 "nbformat_minor": 2
}
